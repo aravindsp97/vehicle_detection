{
  "nbformat": 4,
  "nbformat_minor": 0,
  "metadata": {
    "colab": {
      "name": "Car_detection.ipynb",
      "version": "0.3.2",
      "provenance": [],
      "collapsed_sections": [],
      "include_colab_link": true
    },
    "kernelspec": {
      "name": "python3",
      "display_name": "Python 3"
    }
  },
  "cells": [
    {
      "cell_type": "markdown",
      "metadata": {
        "id": "view-in-github",
        "colab_type": "text"
      },
      "source": [
        "<a href=\"https://colab.research.google.com/github/aravindsp97/finaltesting/blob/master/Car_detection.ipynb\" target=\"_parent\"><img src=\"https://colab.research.google.com/assets/colab-badge.svg\" alt=\"Open In Colab\"/></a>"
      ]
    },
    {
      "cell_type": "code",
      "metadata": {
        "id": "cnd1vfQaNZmg",
        "colab_type": "code",
        "colab": {
          "base_uri": "https://localhost:8080/",
          "height": 34
        },
        "outputId": "e1ca57d3-8f30-4456-8079-31f0dbffac81"
      },
      "source": [
        "ls"
      ],
      "execution_count": 2,
      "outputs": [
        {
          "output_type": "stream",
          "text": [
            "\u001b[0m\u001b[01;34mlast_test\u001b[0m/  \u001b[01;34msample_data\u001b[0m/\n"
          ],
          "name": "stdout"
        }
      ]
    },
    {
      "cell_type": "code",
      "metadata": {
        "id": "wYSuAjCKNvwJ",
        "colab_type": "code",
        "colab": {
          "base_uri": "https://localhost:8080/",
          "height": 34
        },
        "outputId": "852f0f58-756c-478b-c1a6-7df8451f7406"
      },
      "source": [
        "cd last_test"
      ],
      "execution_count": 3,
      "outputs": [
        {
          "output_type": "stream",
          "text": [
            "/content/last_test\n"
          ],
          "name": "stdout"
        }
      ]
    },
    {
      "cell_type": "code",
      "metadata": {
        "id": "Faa_Q3_xNyfr",
        "colab_type": "code",
        "colab": {
          "base_uri": "https://localhost:8080/",
          "height": 34
        },
        "outputId": "024133d1-cc8c-4983-96d5-4d9017dcc585"
      },
      "source": [
        "ls"
      ],
      "execution_count": 4,
      "outputs": [
        {
          "output_type": "stream",
          "text": [
            "\u001b[0m\u001b[01;34mlast1_testing\u001b[0m/  README.md\n"
          ],
          "name": "stdout"
        }
      ]
    },
    {
      "cell_type": "code",
      "metadata": {
        "id": "sv4hR3BpN18O",
        "colab_type": "code",
        "colab": {
          "base_uri": "https://localhost:8080/",
          "height": 34
        },
        "outputId": "305257e5-4b34-44b3-cbc5-74c7659ef68d"
      },
      "source": [
        "cd last1_testing"
      ],
      "execution_count": 5,
      "outputs": [
        {
          "output_type": "stream",
          "text": [
            "/content/last_test/last1_testing\n"
          ],
          "name": "stdout"
        }
      ]
    },
    {
      "cell_type": "code",
      "metadata": {
        "id": "TbfX-EcgN4Qn",
        "colab_type": "code",
        "colab": {
          "base_uri": "https://localhost:8080/",
          "height": 34
        },
        "outputId": "74c203d5-2044-4e63-e81c-483d6aaa0252"
      },
      "source": [
        "cd last2_testing"
      ],
      "execution_count": 6,
      "outputs": [
        {
          "output_type": "stream",
          "text": [
            "/content/last_test/last1_testing/last2_testing\n"
          ],
          "name": "stdout"
        }
      ]
    },
    {
      "cell_type": "code",
      "metadata": {
        "id": "EewSCrLsN8ZN",
        "colab_type": "code",
        "colab": {
          "base_uri": "https://localhost:8080/",
          "height": 85
        },
        "outputId": "c9c585aa-fff7-46bd-c678-37648988fa32"
      },
      "source": [
        "!git clone https://github.com/aravindsp97/finaltraining.git"
      ],
      "execution_count": 8,
      "outputs": [
        {
          "output_type": "stream",
          "text": [
            "Cloning into 'finaltraining'...\n",
            "remote: Enumerating objects: 106, done.\u001b[K\n",
            "Receiving objects:   0% (1/106)   \rReceiving objects:   1% (2/106)   \rReceiving objects:   2% (3/106)   \rReceiving objects:   3% (4/106)   \rReceiving objects:   4% (5/106)   \rReceiving objects:   5% (6/106)   \rReceiving objects:   6% (7/106)   \rReceiving objects:   7% (8/106)   \rReceiving objects:   8% (9/106)   \rReceiving objects:   9% (10/106)   \rReceiving objects:  10% (11/106)   \rReceiving objects:  11% (12/106)   \rReceiving objects:  12% (13/106)   \rReceiving objects:  13% (14/106)   \rReceiving objects:  14% (15/106)   \rReceiving objects:  15% (16/106)   \rReceiving objects:  16% (17/106)   \rReceiving objects:  17% (19/106)   \rReceiving objects:  18% (20/106)   \rReceiving objects:  19% (21/106)   \rReceiving objects:  20% (22/106)   \rReceiving objects:  21% (23/106)   \rReceiving objects:  22% (24/106)   \rReceiving objects:  23% (25/106)   \rReceiving objects:  24% (26/106)   \rReceiving objects:  25% (27/106)   \rReceiving objects:  26% (28/106)   \rReceiving objects:  27% (29/106)   \rReceiving objects:  28% (30/106)   \rReceiving objects:  29% (31/106)   \rReceiving objects:  30% (32/106)   \rReceiving objects:  31% (33/106)   \rReceiving objects:  32% (34/106)   \rReceiving objects:  33% (35/106)   \rReceiving objects:  34% (37/106)   \rReceiving objects:  35% (38/106)   \rReceiving objects:  36% (39/106)   \rReceiving objects:  37% (40/106)   \rReceiving objects:  38% (41/106)   \rReceiving objects:  39% (42/106)   \rReceiving objects:  40% (43/106)   \rReceiving objects:  41% (44/106)   \rReceiving objects:  42% (45/106)   \rReceiving objects:  43% (46/106)   \rReceiving objects:  44% (47/106)   \rReceiving objects:  45% (48/106)   \rReceiving objects:  46% (49/106)   \rReceiving objects:  47% (50/106)   \rReceiving objects:  48% (51/106)   \rReceiving objects:  49% (52/106)   \rReceiving objects:  50% (53/106)   \rReceiving objects:  51% (55/106)   \rReceiving objects:  52% (56/106)   \rReceiving objects:  53% (57/106)   \rReceiving objects:  54% (58/106)   \rReceiving objects:  55% (59/106)   \rReceiving objects:  56% (60/106)   \rReceiving objects:  57% (61/106)   \rReceiving objects:  58% (62/106)   \rReceiving objects:  59% (63/106)   \rReceiving objects:  60% (64/106)   \rReceiving objects:  61% (65/106)   \rReceiving objects:  62% (66/106)   \rReceiving objects:  63% (67/106)   \rReceiving objects:  64% (68/106)   \rReceiving objects:  65% (69/106)   \rReceiving objects:  66% (70/106)   \rReceiving objects:  67% (72/106)   \rReceiving objects:  68% (73/106)   \rReceiving objects:  69% (74/106)   \rReceiving objects:  70% (75/106)   \rReceiving objects:  71% (76/106)   \rReceiving objects:  72% (77/106)   \rReceiving objects:  73% (78/106)   \rReceiving objects:  74% (79/106)   \rReceiving objects:  75% (80/106)   \rReceiving objects:  76% (81/106)   \rReceiving objects:  77% (82/106)   \rReceiving objects:  78% (83/106)   \rReceiving objects:  79% (84/106)   \rReceiving objects:  80% (85/106)   \rReceiving objects:  81% (86/106)   \rReceiving objects:  82% (87/106)   \rReceiving objects:  83% (88/106)   \rReceiving objects:  84% (90/106)   \rReceiving objects:  85% (91/106)   \rReceiving objects:  86% (92/106)   \rReceiving objects:  87% (93/106)   \rReceiving objects:  88% (94/106)   \rReceiving objects:  89% (95/106)   \rReceiving objects:  90% (96/106)   \rReceiving objects:  91% (97/106)   \rReceiving objects:  92% (98/106)   \rReceiving objects:  93% (99/106)   \rReceiving objects:  94% (100/106)   \rremote: Total 106 (delta 0), reused 0 (delta 0), pack-reused 106\u001b[K\n",
            "Receiving objects:  95% (101/106)   \rReceiving objects:  96% (102/106)   \rReceiving objects:  97% (103/106)   \rReceiving objects:  98% (104/106)   \rReceiving objects:  99% (105/106)   \rReceiving objects: 100% (106/106)   \rReceiving objects: 100% (106/106), 1.03 MiB | 2.62 MiB/s, done.\n"
          ],
          "name": "stdout"
        }
      ]
    },
    {
      "cell_type": "code",
      "metadata": {
        "id": "mxkUoVEROKAE",
        "colab_type": "code",
        "colab": {
          "base_uri": "https://localhost:8080/",
          "height": 34
        },
        "outputId": "29a5b313-1a7a-46d4-acc2-a1db18f6868a"
      },
      "source": [
        "cd finaltraining"
      ],
      "execution_count": 9,
      "outputs": [
        {
          "output_type": "stream",
          "text": [
            "/content/last_test/last1_testing/last2_testing/finaltraining\n"
          ],
          "name": "stdout"
        }
      ]
    },
    {
      "cell_type": "code",
      "metadata": {
        "id": "69sXPwjvOMMp",
        "colab_type": "code",
        "colab": {
          "base_uri": "https://localhost:8080/",
          "height": 34
        },
        "outputId": "7e945613-2a7e-46a9-c0e6-17da3a7aa14d"
      },
      "source": [
        "ls"
      ],
      "execution_count": 11,
      "outputs": [
        {
          "output_type": "stream",
          "text": [
            "\u001b[0m\u001b[01;34mfinal_training\u001b[0m/  README.md\n"
          ],
          "name": "stdout"
        }
      ]
    },
    {
      "cell_type": "code",
      "metadata": {
        "id": "od3nSQl2OS_x",
        "colab_type": "code",
        "colab": {
          "base_uri": "https://localhost:8080/",
          "height": 34
        },
        "outputId": "1576b100-8b78-49b6-94fa-f398ab31aad5"
      },
      "source": [
        "cd final_training"
      ],
      "execution_count": 12,
      "outputs": [
        {
          "output_type": "stream",
          "text": [
            "/content/last_test/last1_testing/last2_testing/finaltraining/final_training\n"
          ],
          "name": "stdout"
        }
      ]
    },
    {
      "cell_type": "code",
      "metadata": {
        "id": "J5DhVVr3OVcw",
        "colab_type": "code",
        "colab": {
          "base_uri": "https://localhost:8080/",
          "height": 785
        },
        "outputId": "0dcf3c8d-1b6f-46f5-cb92-d68333ce5094"
      },
      "source": [
        "# importing libraries \n",
        "from keras.preprocessing.image import ImageDataGenerator \n",
        "from keras.models import Sequential \n",
        "from keras.layers import Conv2D, MaxPooling2D \n",
        "from keras.layers import Activation, Dropout, Flatten, Dense \n",
        "from keras import backend as K \n",
        "\n",
        "\n",
        "img_width, img_height = 224, 224\n",
        "\n",
        "train_data_dir = '/content/last_test/last1_testing/last2_testing/finaltraining'\n",
        "validation_data_dir = '/content/last_test/last1_testing/last2_testing'\n",
        "nb_train_samples = 400\n",
        "nb_validation_samples = 100\n",
        "epochs = 10\n",
        "batch_size = 16\n",
        "\n",
        "if K.image_data_format() == 'channels_first': \n",
        "\tinput_shape = (3, img_width, img_height) \n",
        "else: \n",
        "\tinput_shape = (img_width, img_height, 3) \n",
        "\n",
        "model = Sequential() \n",
        "model.add(Conv2D(32, (2, 2), input_shape = input_shape)) \n",
        "model.add(Activation('relu')) \n",
        "model.add(MaxPooling2D(pool_size =(2, 2))) \n",
        "\n",
        "model.add(Conv2D(32, (2, 2))) \n",
        "model.add(Activation('relu')) \n",
        "model.add(MaxPooling2D(pool_size =(2, 2))) \n",
        "\n",
        "model.add(Conv2D(64, (2, 2))) \n",
        "model.add(Activation('relu')) \n",
        "model.add(MaxPooling2D(pool_size =(2, 2))) \n",
        "\n",
        "model.add(Flatten()) \n",
        "model.add(Dense(64)) \n",
        "model.add(Activation('relu')) \n",
        "model.add(Dropout(0.5)) \n",
        "model.add(Dense(1)) \n",
        "model.add(Activation('sigmoid')) \n",
        "\n",
        "model.compile(loss ='binary_crossentropy', \n",
        "\t\t\t\t\toptimizer ='rmsprop', \n",
        "\t\t\t\tmetrics =['accuracy']) \n",
        "\n",
        "train_datagen = ImageDataGenerator( \n",
        "\t\t\t\trescale = 1. / 255, \n",
        "\t\t\t\tshear_range = 0.2, \n",
        "\t\t\t\tzoom_range = 0.2, \n",
        "\t\t\thorizontal_flip = True) \n",
        "\n",
        "test_datagen = ImageDataGenerator(rescale = 1. / 255) \n",
        "\n",
        "train_generator = train_datagen.flow_from_directory(train_data_dir, \n",
        "\t\t\t\t\t\t\ttarget_size =(img_width, img_height), \n",
        "\t\t\t\t\tbatch_size = batch_size, class_mode ='binary') \n",
        "\n",
        "validation_generator = test_datagen.flow_from_directory( \n",
        "\t\t\t\t\t\t\t\t\tvalidation_data_dir, \n",
        "\t\t\t\ttarget_size =(img_width, img_height), \n",
        "\t\tbatch_size = batch_size, class_mode ='binary') \n",
        "\n",
        "model.fit_generator(train_generator, \n",
        "\tsteps_per_epoch = nb_train_samples // batch_size, \n",
        "\tepochs = epochs, validation_data = validation_generator, \n",
        "\tvalidation_steps = nb_validation_samples // batch_size) \n",
        "\n",
        "model.save_weights('model_saved.h5')"
      ],
      "execution_count": 13,
      "outputs": [
        {
          "output_type": "stream",
          "text": [
            "Using TensorFlow backend.\n",
            "WARNING: Logging before flag parsing goes to stderr.\n",
            "W0801 03:30:03.199396 140290669315968 deprecation_wrapper.py:119] From /usr/local/lib/python3.6/dist-packages/keras/backend/tensorflow_backend.py:74: The name tf.get_default_graph is deprecated. Please use tf.compat.v1.get_default_graph instead.\n",
            "\n",
            "W0801 03:30:03.218588 140290669315968 deprecation_wrapper.py:119] From /usr/local/lib/python3.6/dist-packages/keras/backend/tensorflow_backend.py:517: The name tf.placeholder is deprecated. Please use tf.compat.v1.placeholder instead.\n",
            "\n",
            "W0801 03:30:03.221721 140290669315968 deprecation_wrapper.py:119] From /usr/local/lib/python3.6/dist-packages/keras/backend/tensorflow_backend.py:4138: The name tf.random_uniform is deprecated. Please use tf.random.uniform instead.\n",
            "\n",
            "W0801 03:30:03.241743 140290669315968 deprecation_wrapper.py:119] From /usr/local/lib/python3.6/dist-packages/keras/backend/tensorflow_backend.py:3976: The name tf.nn.max_pool is deprecated. Please use tf.nn.max_pool2d instead.\n",
            "\n",
            "W0801 03:30:03.297520 140290669315968 deprecation_wrapper.py:119] From /usr/local/lib/python3.6/dist-packages/keras/backend/tensorflow_backend.py:133: The name tf.placeholder_with_default is deprecated. Please use tf.compat.v1.placeholder_with_default instead.\n",
            "\n",
            "W0801 03:30:03.309810 140290669315968 deprecation.py:506] From /usr/local/lib/python3.6/dist-packages/keras/backend/tensorflow_backend.py:3445: calling dropout (from tensorflow.python.ops.nn_ops) with keep_prob is deprecated and will be removed in a future version.\n",
            "Instructions for updating:\n",
            "Please use `rate` instead of `keep_prob`. Rate should be set to `rate = 1 - keep_prob`.\n",
            "W0801 03:30:03.341924 140290669315968 deprecation_wrapper.py:119] From /usr/local/lib/python3.6/dist-packages/keras/optimizers.py:790: The name tf.train.Optimizer is deprecated. Please use tf.compat.v1.train.Optimizer instead.\n",
            "\n",
            "W0801 03:30:03.362111 140290669315968 deprecation_wrapper.py:119] From /usr/local/lib/python3.6/dist-packages/keras/backend/tensorflow_backend.py:3376: The name tf.log is deprecated. Please use tf.math.log instead.\n",
            "\n",
            "W0801 03:30:03.368977 140290669315968 deprecation.py:323] From /usr/local/lib/python3.6/dist-packages/tensorflow/python/ops/nn_impl.py:180: add_dispatch_support.<locals>.wrapper (from tensorflow.python.ops.array_ops) is deprecated and will be removed in a future version.\n",
            "Instructions for updating:\n",
            "Use tf.where in 2.0, which has the same broadcast rule as np.where\n"
          ],
          "name": "stderr"
        },
        {
          "output_type": "stream",
          "text": [
            "Found 99 images belonging to 2 classes.\n",
            "Found 149 images belonging to 2 classes.\n",
            "Epoch 1/10\n",
            "25/25 [==============================] - 22s 862ms/step - loss: 0.0290 - acc: 0.9774 - val_loss: 11.4341 - val_acc: 0.2812\n",
            "Epoch 2/10\n",
            "25/25 [==============================] - 19s 755ms/step - loss: 1.3366e-06 - acc: 1.0000 - val_loss: 9.1903 - val_acc: 0.4235\n",
            "Epoch 3/10\n",
            "25/25 [==============================] - 20s 781ms/step - loss: 2.2342e-06 - acc: 1.0000 - val_loss: 10.9604 - val_acc: 0.3125\n",
            "Epoch 4/10\n",
            "25/25 [==============================] - 19s 764ms/step - loss: 3.0670e-07 - acc: 1.0000 - val_loss: 9.5654 - val_acc: 0.4000\n",
            "Epoch 5/10\n",
            "25/25 [==============================] - 19s 772ms/step - loss: 5.7980e-07 - acc: 1.0000 - val_loss: 11.6286 - val_acc: 0.2706\n",
            "Epoch 6/10\n",
            "25/25 [==============================] - 19s 760ms/step - loss: 1.2086e-07 - acc: 1.0000 - val_loss: 10.9604 - val_acc: 0.3125\n",
            "Epoch 7/10\n",
            "25/25 [==============================] - 19s 761ms/step - loss: 1.6867e-07 - acc: 1.0000 - val_loss: 10.3157 - val_acc: 0.3529\n",
            "Epoch 8/10\n",
            "25/25 [==============================] - 19s 778ms/step - loss: 1.1921e-07 - acc: 1.0000 - val_loss: 10.1301 - val_acc: 0.3646\n",
            "Epoch 9/10\n",
            "25/25 [==============================] - 19s 760ms/step - loss: 4.5748e-07 - acc: 1.0000 - val_loss: 11.4410 - val_acc: 0.2824\n",
            "Epoch 10/10\n",
            "25/25 [==============================] - 19s 773ms/step - loss: 1.1921e-07 - acc: 1.0000 - val_loss: 10.1281 - val_acc: 0.3647\n"
          ],
          "name": "stdout"
        }
      ]
    }
  ]
}